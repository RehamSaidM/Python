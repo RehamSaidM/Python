{
 "cells": [
  {
   "cell_type": "code",
   "execution_count": null,
   "id": "70de9f2c-fa9d-4e20-8814-6be5f1692460",
   "metadata": {},
   "outputs": [],
   "source": [
    "from http. server import SimpleTTPRequestHandler, HTTPServer\n",
    "host = 'localhost'\n",
    "port = 8000\n",
    "\n",
    "handler = SimpleHTTPRequestHandler\n",
    "\n",
    "with HTTPServer((host, port), handler) as server:\n",
    "print (f\"Serving on http:// {host}: (port)\") server .serve_forever()\n",
    "Serving on http://localhost/: 8000"
   ]
  }
 ],
 "metadata": {
  "kernelspec": {
   "display_name": "Python 3 (ipykernel)",
   "language": "python",
   "name": "python3"
  },
  "language_info": {
   "codemirror_mode": {
    "name": "ipython",
    "version": 3
   },
   "file_extension": ".py",
   "mimetype": "text/x-python",
   "name": "python",
   "nbconvert_exporter": "python",
   "pygments_lexer": "ipython3",
   "version": "3.13.5"
  }
 },
 "nbformat": 4,
 "nbformat_minor": 5
}
