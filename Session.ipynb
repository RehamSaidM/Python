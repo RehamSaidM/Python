{
 "cells": [
  {
   "cell_type": "code",
   "execution_count": null,
   "id": "ae977c68-ad38-4c98-bbde-1bfdff36a53e",
   "metadata": {},
   "outputs": [],
   "source": []
  }
 ],
 "metadata": {
  "kernelspec": {
   "display_name": "",
   "name": ""
  },
  "language_info": {
   "name": ""
  }
 },
 "nbformat": 4,
 "nbformat_minor": 5
}
