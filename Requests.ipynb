{
 "cells": [
  {
   "cell_type": "code",
   "execution_count": 1,
   "id": "ae977c68-ad38-4c98-bbde-1bfdff36a53e",
   "metadata": {},
   "outputs": [
    {
     "name": "stdout",
     "output_type": "stream",
     "text": [
      "GET:\n",
      "Status Code: 200\n",
      "Headers: {'Date': 'Wed, 06 Aug 2025 14:41:19 GMT', 'Content-Type': 'application/json', 'Content-Length': '306', 'Connection': 'keep-alive', 'Server': 'gunicorn/19.9.0', 'Access-Control-Allow-Origin': '*', 'Access-Control-Allow-Credentials': 'true'}\n",
      "Cookies: <RequestsCookieJar[]>\n",
      "Text: {\n",
      "  \"args\": {}, \n",
      "  \"headers\": {\n",
      "    \"Accept\": \"*/*\", \n",
      "    \"Accept-Encoding\": \"gzip, deflate, br, zst\n",
      "JSON: {'args': {}, 'headers': {'Accept': '*/*', 'Accept-Encoding': 'gzip, deflate, br, zstd', 'Host': 'httpbin.org', 'User-Agent': 'Mozilla/5.0', 'X-Amzn-Trace-Id': 'Root=1-6893698d-1867e24a5ca93c896acd9350'}, 'origin': '134.0.184.206', 'url': 'https://httpbin.org/get'}\n",
      "------------------------------\n",
      "POST:\n",
      "Status Code: 200\n",
      "Headers: {'Date': 'Wed, 06 Aug 2025 14:41:21 GMT', 'Content-Type': 'application/json', 'Content-Length': '472', 'Connection': 'keep-alive', 'Server': 'gunicorn/19.9.0', 'Access-Control-Allow-Origin': '*', 'Access-Control-Allow-Credentials': 'true'}\n",
      "Cookies: <RequestsCookieJar[]>\n",
      "Text: {\n",
      "  \"args\": {}, \n",
      "  \"data\": \"\", \n",
      "  \"files\": {}, \n",
      "  \"form\": {\n",
      "    \"a\": \"1\"\n",
      "  }, \n",
      "  \"headers\": {\n",
      "    \"A\n",
      "JSON: {'args': {}, 'data': '', 'files': {}, 'form': {'a': '1'}, 'headers': {'Accept': '*/*', 'Accept-Encoding': 'gzip, deflate, br, zstd', 'Content-Length': '3', 'Content-Type': 'application/x-www-form-urlencoded', 'Host': 'httpbin.org', 'User-Agent': 'Mozilla/5.0', 'X-Amzn-Trace-Id': 'Root=1-68936990-61b82a1e2c1c026f54c149dd'}, 'json': None, 'origin': '134.0.184.206', 'url': 'https://httpbin.org/post'}\n",
      "------------------------------\n",
      "PUT:\n",
      "Status Code: 200\n",
      "Headers: {'Date': 'Wed, 06 Aug 2025 14:41:22 GMT', 'Content-Type': 'application/json', 'Content-Length': '460', 'Connection': 'keep-alive', 'Server': 'gunicorn/19.9.0', 'Access-Control-Allow-Origin': '*', 'Access-Control-Allow-Credentials': 'true'}\n",
      "Cookies: <RequestsCookieJar[]>\n",
      "Text: {\n",
      "  \"args\": {}, \n",
      "  \"data\": \"{\\\"x\\\": 1}\", \n",
      "  \"files\": {}, \n",
      "  \"form\": {}, \n",
      "  \"headers\": {\n",
      "    \"Accept\"\n",
      "JSON: {'args': {}, 'data': '{\"x\": 1}', 'files': {}, 'form': {}, 'headers': {'Accept': '*/*', 'Accept-Encoding': 'gzip, deflate, br, zstd', 'Content-Length': '8', 'Content-Type': 'application/json', 'Host': 'httpbin.org', 'User-Agent': 'Mozilla/5.0', 'X-Amzn-Trace-Id': 'Root=1-68936991-0218f44f7cf3680b443fcd9d'}, 'json': {'x': 1}, 'origin': '134.0.184.206', 'url': 'https://httpbin.org/put'}\n",
      "------------------------------\n",
      "PATCH:\n",
      "Status Code: 200\n",
      "Headers: {'Date': 'Wed, 06 Aug 2025 14:41:23 GMT', 'Content-Type': 'application/json', 'Content-Length': '462', 'Connection': 'keep-alive', 'Server': 'gunicorn/19.9.0', 'Access-Control-Allow-Origin': '*', 'Access-Control-Allow-Credentials': 'true'}\n",
      "Cookies: <RequestsCookieJar[]>\n",
      "Text: {\n",
      "  \"args\": {}, \n",
      "  \"data\": \"{\\\"y\\\": 2}\", \n",
      "  \"files\": {}, \n",
      "  \"form\": {}, \n",
      "  \"headers\": {\n",
      "    \"Accept\"\n",
      "JSON: {'args': {}, 'data': '{\"y\": 2}', 'files': {}, 'form': {}, 'headers': {'Accept': '*/*', 'Accept-Encoding': 'gzip, deflate, br, zstd', 'Content-Length': '8', 'Content-Type': 'application/json', 'Host': 'httpbin.org', 'User-Agent': 'Mozilla/5.0', 'X-Amzn-Trace-Id': 'Root=1-68936992-6a7fb8d3585312986c14a62a'}, 'json': {'y': 2}, 'origin': '134.0.184.206', 'url': 'https://httpbin.org/patch'}\n",
      "------------------------------\n",
      "DELETE:\n",
      "Status Code: 200\n",
      "Headers: {'Date': 'Wed, 06 Aug 2025 14:41:25 GMT', 'Content-Type': 'application/json', 'Content-Length': '400', 'Connection': 'keep-alive', 'Server': 'gunicorn/19.9.0', 'Access-Control-Allow-Origin': '*', 'Access-Control-Allow-Credentials': 'true'}\n",
      "Cookies: <RequestsCookieJar[]>\n",
      "Text: {\n",
      "  \"args\": {}, \n",
      "  \"data\": \"\", \n",
      "  \"files\": {}, \n",
      "  \"form\": {}, \n",
      "  \"headers\": {\n",
      "    \"Accept\": \"*/*\", \n",
      "\n",
      "JSON: {'args': {}, 'data': '', 'files': {}, 'form': {}, 'headers': {'Accept': '*/*', 'Accept-Encoding': 'gzip, deflate, br, zstd', 'Content-Length': '0', 'Host': 'httpbin.org', 'User-Agent': 'Mozilla/5.0', 'X-Amzn-Trace-Id': 'Root=1-68936994-581cb81c0b6970d139db35d4'}, 'json': None, 'origin': '134.0.184.206', 'url': 'https://httpbin.org/delete'}\n",
      "------------------------------\n"
     ]
    }
   ],
   "source": [
    "import requests\n",
    "url = 'https://www.utas.edu.om/'\n",
    "response = requests.get(url)\n",
    "print('URL:',response.url)\n",
    "print('Status Code: ', response.status_code)\n",
    "print('Status Reason: ', response.reason)\n",
    "print('Header: ',response.headers)"
   ]
  },
  {
   "cell_type": "code",
   "execution_count": null,
   "id": "1b7da0c7-5564-4639-a726-fb48c888e56f",
   "metadata": {},
   "outputs": [],
   "source": []
  }
 ],
 "metadata": {
  "kernelspec": {
   "display_name": "Python 3 (ipykernel)",
   "language": "python",
   "name": "python3"
  },
  "language_info": {
   "codemirror_mode": {
    "name": "ipython",
    "version": 3
   },
   "file_extension": ".py",
   "mimetype": "text/x-python",
   "name": "python",
   "nbconvert_exporter": "python",
   "pygments_lexer": "ipython3",
   "version": "3.13.5"
  }
 },
 "nbformat": 4,
 "nbformat_minor": 5
}
