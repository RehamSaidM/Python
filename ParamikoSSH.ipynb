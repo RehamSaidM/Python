{
 "cells": [
  {
   "cell_type": "code",
   "execution_count": 2,
   "id": "70de9f2c-fa9d-4e20-8814-6be5f1692460",
   "metadata": {},
   "outputs": [
    {
     "ename": "ModuleNotFoundError",
     "evalue": "No module named 'paramiko'",
     "output_type": "error",
     "traceback": [
      "\u001b[1;31m---------------------------------------------------------------------------\u001b[0m",
      "\u001b[1;31mModuleNotFoundError\u001b[0m                       Traceback (most recent call last)",
      "Cell \u001b[1;32mIn[2], line 1\u001b[0m\n\u001b[1;32m----> 1\u001b[0m \u001b[38;5;28;01mimport\u001b[39;00m\u001b[38;5;250m \u001b[39m\u001b[38;5;21;01mparamiko\u001b[39;00m\n\u001b[0;32m      3\u001b[0m \u001b[38;5;66;03m# Connection info\u001b[39;00m\n\u001b[0;32m      4\u001b[0m hostname \u001b[38;5;241m=\u001b[39m \u001b[38;5;124m\"\u001b[39m\u001b[38;5;124mlocalhost\u001b[39m\u001b[38;5;124m\"\u001b[39m\n",
      "\u001b[1;31mModuleNotFoundError\u001b[0m: No module named 'paramiko'"
     ]
    }
   ],
   "source": [
    "import paramiko\n",
    "\n",
    "# Connection info\n",
    "hostname = \"localhost\"\n",
    "port = 22\n",
    "username = \"admin\"\n",
    "password = \"admin 123\"\n",
    "\n",
    "# Connect to SSH\n",
    "client = paramiko.SSHClient()\n",
    "client.set_missing_host_key_policy(paramiko.AutoAddPolicy())\n",
    "client.connect(hostname, port, username, password)\n",
    "\n",
    "# Execute a command\n",
    "stdin, stdout, stderr = client.exec_command(\"whoami\")\n",
    "print(\"Executed command output:\", stdout.read().decode())\n",
    "\n",
    "# Upload a file\n",
    "sftp = client.open_sftp()\n",
    "sftp.put('D://myfile.txt', '/Users/admin/copymyfile.txt')\n",
    "print(\"Uploaded file...\")\n",
    "\n",
    "# Close connections\n",
    "sftp.close()\n",
    "client.close()\n"
   ]
  },
  {
   "cell_type": "code",
   "execution_count": null,
   "id": "653a70ea-9452-41c4-8a13-39bb4e13ef91",
   "metadata": {},
   "outputs": [],
   "source": []
  }
 ],
 "metadata": {
  "kernelspec": {
   "display_name": "Python 3 (ipykernel)",
   "language": "python",
   "name": "python3"
  },
  "language_info": {
   "codemirror_mode": {
    "name": "ipython",
    "version": 3
   },
   "file_extension": ".py",
   "mimetype": "text/x-python",
   "name": "python",
   "nbconvert_exporter": "python",
   "pygments_lexer": "ipython3",
   "version": "3.13.5"
  }
 },
 "nbformat": 4,
 "nbformat_minor": 5
}
