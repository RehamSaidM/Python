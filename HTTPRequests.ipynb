{
 "cells": [
  {
   "cell_type": "code",
   "execution_count": null,
   "id": "70de9f2c-fa9d-4e20-8814-6be5f1692460",
   "metadata": {},
   "outputs": [],
   "source": [
    "import requests\n",
    "session = requests.Session()\n",
    "session.headers.update({'User-Agent' : 'Mozzila/5.0'})\n",
    "def print_response_details(response) :\n",
    "print (\"Status Code:\" , response.status_code) print(\"Headers: \"\n",
    "', response.headers)\n",
    "print(\"Cookies:\n",
    ", response.cookies)\n",
    "print(\"Text: \"\n",
    ", response.text[:100])\n",
    "print(\"-\" * 30)\n",
    "resp=session.get ( 'https://httpbin.org/get') print_response_details(resp)\n",
    "resp=session.post('https://httpbin.org/post', data=('a\" : 1}) print_response_details(resp)\n",
    "resp=session.put ('https://httpbin.org/put', json=('x': 1}) print_response_details(resp)\n",
    "resp=session.patch('https://httpbin.org/patch', json=('y': 2}) print_response_details(resp)\n",
    "resp=session.delete('https://httpbin.org/delete')\n",
    "print _response_details(resp)\n",
    "session.close()"
   ]
  }
 ],
 "metadata": {
  "kernelspec": {
   "display_name": "Python 3 (ipykernel)",
   "language": "python",
   "name": "python3"
  },
  "language_info": {
   "codemirror_mode": {
    "name": "ipython",
    "version": 3
   },
   "file_extension": ".py",
   "mimetype": "text/x-python",
   "name": "python",
   "nbconvert_exporter": "python",
   "pygments_lexer": "ipython3",
   "version": "3.13.5"
  }
 },
 "nbformat": 4,
 "nbformat_minor": 5
}
